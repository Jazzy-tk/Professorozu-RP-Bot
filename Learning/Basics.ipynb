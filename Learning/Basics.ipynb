{
 "metadata": {
  "language_info": {
   "codemirror_mode": {
    "name": "ipython",
    "version": 3
   },
   "file_extension": ".py",
   "mimetype": "text/x-python",
   "name": "python",
   "nbconvert_exporter": "python",
   "pygments_lexer": "ipython3",
   "version": "3.9.4"
  },
  "orig_nbformat": 2,
  "kernelspec": {
   "name": "python394jvsc74a57bd0449c5584f7bf6975ba4ab922580686e40abd042848c279fc65cdbbfeaf9c0957",
   "display_name": "Python 3.9.4 64-bit"
  }
 },
 "nbformat": 4,
 "nbformat_minor": 2,
 "cells": [
  {
   "source": [
    "#Make uppercase into lowercase\n",
    "x = \"UPPER case text\"\n",
    "\n",
    "print(x.lower())"
   ],
   "cell_type": "code",
   "metadata": {},
   "execution_count": 6,
   "outputs": [
    {
     "output_type": "stream",
     "name": "stdout",
     "text": [
      "upper case text\n"
     ]
    }
   ]
  },
  {
   "cell_type": "code",
   "execution_count": 1,
   "metadata": {},
   "outputs": [
    {
     "output_type": "stream",
     "name": "stdout",
     "text": [
      "upper case text\n"
     ]
    }
   ],
   "source": [
    "#A different way to do it that applies to the whole variable\n",
    "x = \"UPPER case text\"\n",
    "x = x.lower()\n",
    "\n",
    "print(x)"
   ]
  },
  {
   "cell_type": "code",
   "execution_count": 26,
   "metadata": {},
   "outputs": [
    {
     "output_type": "stream",
     "name": "stdout",
     "text": [
      "0, 0, 0\n"
     ]
    }
   ],
   "source": [
    "#Remove letters\n",
    "x = \"-help 0, 0, 0\"\n",
    "\n",
    "x = x.replace(\"-help \", \"\")\n",
    "\n",
    "print(x)\n"
   ]
  },
  {
   "cell_type": "code",
   "execution_count": 2,
   "metadata": {},
   "outputs": [
    {
     "output_type": "stream",
     "name": "stdout",
     "text": [
      "1 2 3\n"
     ]
    }
   ],
   "source": [
    "#convert to numbers\n",
    "x = \"-help 1, 2, 3\"\n",
    "\n",
    "x = x.replace(\"-help \", \"\")\n",
    "\n",
    "x = x.replace(\" \", \"\")\n",
    "\n",
    "x = x.split(\",\")\n",
    "\n",
    "#convert the str to int\n",
    "x = [int(i) for i in x]\n",
    "\n",
    "r, g, b = x\n",
    "\n",
    "print(r, g, b)"
   ]
  },
  {
   "cell_type": "code",
   "execution_count": null,
   "metadata": {},
   "outputs": [],
   "source": []
  }
 ]
}